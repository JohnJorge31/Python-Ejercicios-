{
  "nbformat": 4,
  "nbformat_minor": 0,
  "metadata": {
    "colab": {
      "provenance": [],
      "collapsed_sections": [],
      "authorship_tag": "ABX9TyMfmc/TabsgsyzZpoqNBLG2",
      "include_colab_link": true
    },
    "kernelspec": {
      "name": "python3",
      "display_name": "Python 3"
    },
    "language_info": {
      "name": "python"
    }
  },
  "cells": [
    {
      "cell_type": "markdown",
      "metadata": {
        "id": "view-in-github",
        "colab_type": "text"
      },
      "source": [
        "<a href=\"https://colab.research.google.com/github/JohnJorge31/Python-Ejercicios-/blob/main/Ejercicio_2.ipynb\" target=\"_parent\"><img src=\"https://colab.research.google.com/assets/colab-badge.svg\" alt=\"Open In Colab\"/></a>"
      ]
    },
    {
      "cell_type": "markdown",
      "source": [
        "#Ejercicio 2"
      ],
      "metadata": {
        "id": "Y6MuJLVK9ylU"
      }
    },
    {
      "cell_type": "code",
      "execution_count": null,
      "metadata": {
        "colab": {
          "base_uri": "https://localhost:8080/",
          "height": 1000
        },
        "id": "NWV7-HKr9vn-",
        "outputId": "ab291784-28d3-4d4c-c633-03df27291930"
      },
      "outputs": [
        {
          "output_type": "stream",
          "name": "stdout",
          "text": [
            "------------------------------\n",
            "SENATI - RECORD ACADEMICO ADMIN\n",
            "------------------------------\n",
            "\n",
            "1 - Agregar Cursos\n",
            "2 - Listar Cursos\n",
            "3 - Editar Cursos Erroneos\n",
            "4 - Salir y Guardar en TXT\n",
            "\n",
            "Seleciona una Opcion: 1\n",
            "Ingrese el Codigo del Curso: 01\n",
            "Ingrese Nombre del Curso: LEGNUAJE DE PROGRAMCION\n",
            "Ingresa las Horas llevas del Curso: 121\n",
            "Escribe la Carrera que llevara este curso: ING, SOFTWARE & DES SOFTWARE\n",
            "Escribe el Ciclo Academico que llevaran el Curso: II , IV\n",
            "------------------------------\n",
            "SENATI - RECORD ACADEMICO ADMIN\n",
            "------------------------------\n",
            "\n",
            "1 - Agregar Cursos\n",
            "2 - Listar Cursos\n",
            "3 - Editar Cursos Erroneos\n",
            "4 - Salir y Guardar en TXT\n",
            "\n",
            "Seleciona una Opcion: 2\n",
            "CODIGO  |  CURSO                       |  HORAS  | CARRERA                            |  CICLO \n",
            "1 | LEGNUAJE DE PROGRAMCION | 121 | ING, SOFTWARE & DES SOFTWARE | II , IV  CICLO\n",
            "------------------------------\n",
            "SENATI - RECORD ACADEMICO ADMIN\n",
            "------------------------------\n",
            "\n",
            "1 - Agregar Cursos\n",
            "2 - Listar Cursos\n",
            "3 - Editar Cursos Erroneos\n",
            "4 - Salir y Guardar en TXT\n",
            "\n"
          ]
        },
        {
          "output_type": "error",
          "ename": "KeyboardInterrupt",
          "evalue": "ignored",
          "traceback": [
            "\u001b[0;31m---------------------------------------------------------------------------\u001b[0m",
            "\u001b[0;31mKeyboardInterrupt\u001b[0m                         Traceback (most recent call last)",
            "\u001b[0;32m<ipython-input-21-adf8f6ef5d3e>\u001b[0m in \u001b[0;36m<module>\u001b[0;34m\u001b[0m\n\u001b[1;32m     20\u001b[0m         '4 - Salir y Guardar en TXT')\n\u001b[1;32m     21\u001b[0m   \u001b[0mprint\u001b[0m\u001b[0;34m(\u001b[0m\u001b[0;34m\"\"\u001b[0m\u001b[0;34m)\u001b[0m\u001b[0;34m\u001b[0m\u001b[0;34m\u001b[0m\u001b[0m\n\u001b[0;32m---> 22\u001b[0;31m   \u001b[0mopcion\u001b[0m \u001b[0;34m=\u001b[0m \u001b[0mint\u001b[0m\u001b[0;34m(\u001b[0m\u001b[0minput\u001b[0m\u001b[0;34m(\u001b[0m\u001b[0;34m\"Seleciona una Opcion: \"\u001b[0m\u001b[0;34m)\u001b[0m\u001b[0;34m)\u001b[0m\u001b[0;34m\u001b[0m\u001b[0;34m\u001b[0m\u001b[0m\n\u001b[0m\u001b[1;32m     23\u001b[0m \u001b[0;34m\u001b[0m\u001b[0m\n\u001b[1;32m     24\u001b[0m   \u001b[0;31m#ESCRIBIMOS EL SISTEMA DEL APARTADO CON WHILE , IF , ELSE , RETURN\u001b[0m\u001b[0;34m\u001b[0m\u001b[0;34m\u001b[0m\u001b[0;34m\u001b[0m\u001b[0m\n",
            "\u001b[0;32m/usr/local/lib/python3.7/dist-packages/ipykernel/kernelbase.py\u001b[0m in \u001b[0;36mraw_input\u001b[0;34m(self, prompt)\u001b[0m\n\u001b[1;32m    861\u001b[0m             \u001b[0mself\u001b[0m\u001b[0;34m.\u001b[0m\u001b[0m_parent_ident\u001b[0m\u001b[0;34m,\u001b[0m\u001b[0;34m\u001b[0m\u001b[0;34m\u001b[0m\u001b[0m\n\u001b[1;32m    862\u001b[0m             \u001b[0mself\u001b[0m\u001b[0;34m.\u001b[0m\u001b[0m_parent_header\u001b[0m\u001b[0;34m,\u001b[0m\u001b[0;34m\u001b[0m\u001b[0;34m\u001b[0m\u001b[0m\n\u001b[0;32m--> 863\u001b[0;31m             \u001b[0mpassword\u001b[0m\u001b[0;34m=\u001b[0m\u001b[0;32mFalse\u001b[0m\u001b[0;34m,\u001b[0m\u001b[0;34m\u001b[0m\u001b[0;34m\u001b[0m\u001b[0m\n\u001b[0m\u001b[1;32m    864\u001b[0m         )\n\u001b[1;32m    865\u001b[0m \u001b[0;34m\u001b[0m\u001b[0m\n",
            "\u001b[0;32m/usr/local/lib/python3.7/dist-packages/ipykernel/kernelbase.py\u001b[0m in \u001b[0;36m_input_request\u001b[0;34m(self, prompt, ident, parent, password)\u001b[0m\n\u001b[1;32m    902\u001b[0m             \u001b[0;32mexcept\u001b[0m \u001b[0mKeyboardInterrupt\u001b[0m\u001b[0;34m:\u001b[0m\u001b[0;34m\u001b[0m\u001b[0;34m\u001b[0m\u001b[0m\n\u001b[1;32m    903\u001b[0m                 \u001b[0;31m# re-raise KeyboardInterrupt, to truncate traceback\u001b[0m\u001b[0;34m\u001b[0m\u001b[0;34m\u001b[0m\u001b[0;34m\u001b[0m\u001b[0m\n\u001b[0;32m--> 904\u001b[0;31m                 \u001b[0;32mraise\u001b[0m \u001b[0mKeyboardInterrupt\u001b[0m\u001b[0;34m(\u001b[0m\u001b[0;34m\"Interrupted by user\"\u001b[0m\u001b[0;34m)\u001b[0m \u001b[0;32mfrom\u001b[0m \u001b[0;32mNone\u001b[0m\u001b[0;34m\u001b[0m\u001b[0;34m\u001b[0m\u001b[0m\n\u001b[0m\u001b[1;32m    905\u001b[0m             \u001b[0;32mexcept\u001b[0m \u001b[0mException\u001b[0m \u001b[0;32mas\u001b[0m \u001b[0me\u001b[0m\u001b[0;34m:\u001b[0m\u001b[0;34m\u001b[0m\u001b[0;34m\u001b[0m\u001b[0m\n\u001b[1;32m    906\u001b[0m                 \u001b[0mself\u001b[0m\u001b[0;34m.\u001b[0m\u001b[0mlog\u001b[0m\u001b[0;34m.\u001b[0m\u001b[0mwarning\u001b[0m\u001b[0;34m(\u001b[0m\u001b[0;34m\"Invalid Message:\"\u001b[0m\u001b[0;34m,\u001b[0m \u001b[0mexc_info\u001b[0m\u001b[0;34m=\u001b[0m\u001b[0;32mTrue\u001b[0m\u001b[0;34m)\u001b[0m\u001b[0;34m\u001b[0m\u001b[0;34m\u001b[0m\u001b[0m\n",
            "\u001b[0;31mKeyboardInterrupt\u001b[0m: Interrupted by user"
          ]
        }
      ],
      "source": [
        "# LISTAS CURSOS (Codigo, nombre , horas , carrera, ciclo)\n",
        "\n",
        "#definimos\n",
        "codigo = []\n",
        "nombre = []\n",
        "hora = []\n",
        "carrera = []\n",
        "ciclo = []\n",
        "\n",
        "#INICIO DEL PROGRAMA \n",
        "#ESCRIBIMOS UN APARTADO\n",
        "while True:\n",
        "  print(\"-\"*30)\n",
        "  print(\"SENATI - RECORD ACADEMICO ADMIN\")\n",
        "  print(\"-\"*30)\n",
        "  print(\"\")\n",
        "  print('1 - Agregar Cursos\\n'\n",
        "        '2 - Listar Cursos\\n'\n",
        "        '3 - Editar Cursos Erroneos\\n'\n",
        "        '4 - Salir y Guardar en TXT')\n",
        "  print(\"\")\n",
        "  opcion = int(input(\"Seleciona una Opcion: \"))\n",
        "\n",
        "  #ESCRIBIMOS EL SISTEMA DEL APARTADO CON WHILE , IF , ELSE , RETURN\n",
        "  if  opcion == 4:\n",
        "\n",
        "    break \n",
        "  #OPCION 1\n",
        "  if opcion == 1:\n",
        "\n",
        "    cod = int(input(\"Ingrese el Codigo del Curso: \"))\n",
        "    codigo.append(cod)\n",
        "\n",
        "    nom = input(\"Ingrese Nombre del Curso: \")\n",
        "    nombre.append(nom)\n",
        "\n",
        "    hor = int(input(\"Ingresa las Horas llevas del Curso: \"))\n",
        "    hora.append(hor)\n",
        "\n",
        "    car = input(\"Escribe la Carrera que llevara este curso: \")\n",
        "    carrera.append(car)\n",
        "\n",
        "    cic = input(\"Escribe el Ciclo Academico que llevaran el Curso: \")\n",
        "    ciclo.append(cic)\n",
        "\n",
        "  #OPCION 2\n",
        "\n",
        "  if opcion == 2:\n",
        "    print(\"CODIGO  |  CURSO  |  HORAS  | CARRERA      |  CICLO \")\n",
        "    forma = len(nombre)\n",
        "    for x in range (forma):\n",
        "      print(codigo[x],\"|\", nombre[x], \"|\", hora[x], \"|\", carrera[x], \"|\", ciclo[x],\" CICLO\")\n",
        "\n",
        "  #OPCION 3\n",
        "  if opcion == 3:\n",
        "\n",
        "    cod = input(\"Ingrese el Codigo del Curso: \")\n",
        "    forma = len(nombre)\n",
        "\n",
        "    for x in range(forma):\n",
        "      if cod == codigo[x]:\n",
        "\n",
        "        print(codigo[x],\"|\", nombre[x], \"|\", hora[x], \"|\", carrera[x], \"|\", ciclo[x],\" CICLO\")\n",
        "        nom = input(\"Ingrese Nombre del Curso: \")\n",
        "        hor = int(input(\"Ingresa las Horas llevas del Curso: \"))\n",
        "        car = input(\"Escribe la Carrera que llevara este curso: \")\n",
        "        cic = input(\"Escribe el Ciclo Academico que llevaran el Curso: \")\n",
        "        nombre  [x] = nom\n",
        "        hora    [x] = hor\n",
        "        carrera [x] = car\n",
        "        ciclo   [x] = cic"
      ]
    }
  ]
}
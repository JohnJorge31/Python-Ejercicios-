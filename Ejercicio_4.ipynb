{
  "nbformat": 4,
  "nbformat_minor": 0,
  "metadata": {
    "colab": {
      "provenance": [],
      "collapsed_sections": [],
      "authorship_tag": "ABX9TyOBDSz0TKU2akya+xtL6jaP",
      "include_colab_link": true
    },
    "kernelspec": {
      "name": "python3",
      "display_name": "Python 3"
    },
    "language_info": {
      "name": "python"
    }
  },
  "cells": [
    {
      "cell_type": "markdown",
      "metadata": {
        "id": "view-in-github",
        "colab_type": "text"
      },
      "source": [
        "<a href=\"https://colab.research.google.com/github/JohnJorge31/Python-Ejercicios-/blob/main/Ejercicio_4.ipynb\" target=\"_parent\"><img src=\"https://colab.research.google.com/assets/colab-badge.svg\" alt=\"Open In Colab\"/></a>"
      ]
    },
    {
      "cell_type": "markdown",
      "source": [
        "#EJERCICIO 4"
      ],
      "metadata": {
        "id": "nOEqbSGkYCmy"
      }
    },
    {
      "cell_type": "code",
      "execution_count": null,
      "metadata": {
        "id": "gdEzb0-zYA6Z"
      },
      "outputs": [],
      "source": [
        "class bicicleta:\n",
        "  #Definidores\n",
        "  def __init__(self, velactual, velmaxima, engranajemax, nroaro, marca, modelo, camllanta, frenar):\n",
        "    self.__velactual = velactual\n",
        "    self.__velmaxima = velmaxima\n",
        "    self.__engranajemax = engranajemax\n",
        "    self.__nroaro = nroaro\n",
        "    self.__marca = marca\n",
        "    self.__modelo = modelo\n",
        "    self.__camllanta = camllanta\n",
        "    self.__frenar = frenar\n",
        "\n",
        "  #Constructores\n",
        "  def SetVelactual(self, velactual):\n",
        "    self.__velactual = velactual\n",
        "  def GetVelactual(self):\n",
        "    return self.__velactual\n",
        "  \n",
        "  def SetVelmaxima(self, velmaxima):\n",
        "    self.__velmaxima = velmaxima\n",
        "  def GetVelmaxima(self):\n",
        "    return self.__velmaxima\n",
        "  \n",
        "  def SetEngranajemax(self, engranajemax):\n",
        "    self.__engranajemax = engranajemax\n",
        "  def GetEngranajemax(self):\n",
        "    return self.__engranajemax\n",
        "  \n",
        "  def SetNroaro(self, nroaro):\n",
        "    self.__nroaro = nroaro\n",
        "  def GetNraro(self):\n",
        "    return self.__nroaro \n",
        "  \n",
        "  def SetMarca(self, marca):\n",
        "    self.__marca = marca\n",
        "  def GetMarca(self):\n",
        "    return self.__marca\n",
        "  \n",
        "  def SetModelo(self,modelo):\n",
        "    self.__modelo = modelo\n",
        "  def GetModelo(self):\n",
        "    return self.__modelo\n",
        "\n",
        "  def SetCamllanta(self,camllanta):\n",
        "    self.__camllanta = camllanta\n",
        "  def GetCamllanta(self):\n",
        "     return self.__camllanta\n",
        "  \n",
        "  def SetFrenar(self,frenar):\n",
        "    self.__frenar = frenar\n",
        "  def GetFrenar(self):\n",
        "    return self.__frenar\n"
      ]
    },
    {
      "cell_type": "code",
      "source": [
        "#cambiamos la velocidad FINAL, Acorde a que nos piden\n",
        "class velocidad:\n",
        "    def cambiarVelocidad(self) :\n",
        "        print(\"Cambiando velocidad a \")\n",
        "    def velocidadfinal(args):\n",
        "        b = Bicicleta()\n",
        "        b.cambiarVelocidad(1253)\n"
      ],
      "metadata": {
        "id": "17RpYpkbnPTn"
      },
      "execution_count": null,
      "outputs": []
    },
    {
      "cell_type": "code",
      "source": [
        "b = bicicleta(20, 32, 4, 3.52, \"Universal\", \"ZX2-SUPER\", 3.55, 2.3)\n",
        "\n",
        "print(\"-\"*25)\n",
        "print(\"BICICLETAS BULXIS\")\n",
        "print(\"-\"*25)\n",
        "print(\"\")\n",
        "\n",
        "print(\"Velocidad Actual: \", b.GetVelactual())\n",
        "print(\"Velocidad Maxima: \", b.GetVelmaxima())\n",
        "print(\"Engranaje Actual: \", b.GetEngranajemax())\n",
        "print(\"Numero de Aro: \", b.GetNraro())\n",
        "print(\"Numero de Marca: \", b.GetMarca())\n",
        "print(\"Modelo: \", b.GetModelo())\n",
        "\n",
        "print(\"\")\n",
        "print(\"Cambiar LLantas: \", b.GetCamllanta())\n",
        "print(\"Frenos: \", b.GetFrenar())\n",
        "print(\"Cambios de Velocidades \") , velocidad.velocidadfinal([])\n",
        "print(\"-\"*25)\n",
        "\n"
      ],
      "metadata": {
        "colab": {
          "base_uri": "https://localhost:8080/"
        },
        "id": "7tDpn85eb7yD",
        "outputId": "4ede7df8-2892-4b6d-fe7d-7ca0102cebbd"
      },
      "execution_count": null,
      "outputs": [
        {
          "output_type": "stream",
          "name": "stdout",
          "text": [
            "-------------------------\n",
            "BICICLETAS BULXIS\n",
            "-------------------------\n",
            "\n",
            "Velocidad Actual:  20\n",
            "Velocidad Maxima:  32\n",
            "Engranaje Actual:  4\n",
            "Numero de Aro:  3.52\n",
            "Numero de Marca:  Universal\n",
            "Modelo:  ZX2-SUPER\n",
            "\n",
            "Cambiar LLantas:  3.55\n",
            "Frenos:  2.3\n",
            "Cambios de Velocidades \n",
            "Cambiando velocidad a 1253\n",
            "-------------------------\n"
          ]
        }
      ]
    }
  ]
}